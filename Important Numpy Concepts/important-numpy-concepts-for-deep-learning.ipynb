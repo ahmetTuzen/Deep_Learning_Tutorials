{
 "cells": [
  {
   "cell_type": "markdown",
   "id": "0e2864ed",
   "metadata": {
    "papermill": {
     "duration": 0.00981,
     "end_time": "2023-08-25T17:56:46.334952",
     "exception": false,
     "start_time": "2023-08-25T17:56:46.325142",
     "status": "completed"
    },
    "tags": []
   },
   "source": [
    "### Hello everyone, in this mini notebook, we will examine some powerful numpy topics that can easily be overlooked over time.\n",
    "\n",
    "### I hope you will remember these topics or even learn some!"
   ]
  },
  {
   "cell_type": "markdown",
   "id": "b8c68837",
   "metadata": {
    "papermill": {
     "duration": 0.008407,
     "end_time": "2023-08-25T17:56:46.350472",
     "exception": false,
     "start_time": "2023-08-25T17:56:46.342065",
     "status": "completed"
    },
    "tags": []
   },
   "source": [
    "# Table of Contents\n",
    "\n",
    "1. [Array types](#1)\n",
    "1. [Array creation](#2)\n",
    "1. [Array manipulation](#3)\n",
    "1. [Shape operations](#4)\n",
    "1. [Indexing](#5)\n",
    "1. [Broadcasting](#6)\n",
    "1. [Matrix multiplication](#7)\n"
   ]
  },
  {
   "cell_type": "code",
   "execution_count": 1,
   "id": "d854da96",
   "metadata": {
    "_cell_guid": "b1076dfc-b9ad-4769-8c92-a6c4dae69d19",
    "_uuid": "8f2839f25d086af736a60e9eeb907d3b93b6e0e5",
    "execution": {
     "iopub.execute_input": "2023-08-25T17:56:46.366662Z",
     "iopub.status.busy": "2023-08-25T17:56:46.366105Z",
     "iopub.status.idle": "2023-08-25T17:56:46.374358Z",
     "shell.execute_reply": "2023-08-25T17:56:46.373588Z"
    },
    "papermill": {
     "duration": 0.018218,
     "end_time": "2023-08-25T17:56:46.376415",
     "exception": false,
     "start_time": "2023-08-25T17:56:46.358197",
     "status": "completed"
    },
    "tags": []
   },
   "outputs": [],
   "source": [
    "import numpy as np"
   ]
  },
  {
   "cell_type": "markdown",
   "id": "efb1baa2",
   "metadata": {
    "papermill": {
     "duration": 0.005928,
     "end_time": "2023-08-25T17:56:46.388806",
     "exception": false,
     "start_time": "2023-08-25T17:56:46.382878",
     "status": "completed"
    },
    "tags": []
   },
   "source": [
    "### Array types <a id=1></a>\n",
    "\n",
    "##### We simply have four different mathematical objects in linear algebra and we can implement them in NumPy as follows:"
   ]
  },
  {
   "cell_type": "code",
   "execution_count": 2,
   "id": "7790f551",
   "metadata": {
    "execution": {
     "iopub.execute_input": "2023-08-25T17:56:46.403280Z",
     "iopub.status.busy": "2023-08-25T17:56:46.402628Z",
     "iopub.status.idle": "2023-08-25T17:56:46.408401Z",
     "shell.execute_reply": "2023-08-25T17:56:46.407634Z"
    },
    "papermill": {
     "duration": 0.015512,
     "end_time": "2023-08-25T17:56:46.410432",
     "exception": false,
     "start_time": "2023-08-25T17:56:46.394920",
     "status": "completed"
    },
    "tags": []
   },
   "outputs": [],
   "source": [
    "scalar = np.float32(1e-1)\n",
    "vector = np.array([1., 2., 3.])\n",
    "matrix = np.array([[1., 2., 3. ],[4., 5., 6.]])\n",
    "tensor = np.array([[[1., 2.],[3., 4.]],[[5., 6.],[7., 8.]]])"
   ]
  },
  {
   "cell_type": "markdown",
   "id": "2d3bf0e1",
   "metadata": {
    "papermill": {
     "duration": 0.007228,
     "end_time": "2023-08-25T17:56:46.424050",
     "exception": false,
     "start_time": "2023-08-25T17:56:46.416822",
     "status": "completed"
    },
    "tags": []
   },
   "source": [
    "##### Their difference seems obvious, but we can see their difference in properties:"
   ]
  },
  {
   "cell_type": "code",
   "execution_count": 3,
   "id": "a4af6b9c",
   "metadata": {
    "execution": {
     "iopub.execute_input": "2023-08-25T17:56:46.441041Z",
     "iopub.status.busy": "2023-08-25T17:56:46.440406Z",
     "iopub.status.idle": "2023-08-25T17:56:46.449578Z",
     "shell.execute_reply": "2023-08-25T17:56:46.448558Z"
    },
    "papermill": {
     "duration": 0.020914,
     "end_time": "2023-08-25T17:56:46.451773",
     "exception": false,
     "start_time": "2023-08-25T17:56:46.430859",
     "status": "completed"
    },
    "tags": []
   },
   "outputs": [
    {
     "name": "stdout",
     "output_type": "stream",
     "text": [
      "scalar: 0.10000000149011612; scalar_dtype: float32; scalar_shape: (); scalar_size: 1; scalar_ndim: 0\n",
      "vector: [1. 2. 3.]; vector_dtype: float64; vector_shape: (3,); vector_size: 3; vector_ndim: 1\n",
      "matrix: [[1. 2. 3.]\n",
      " [4. 5. 6.]]; matrix_dtype: float64; matrix_shape: (2, 3); matrix_size: 6; matrix_ndim: 2\n",
      "tensor: [[[1. 2.]\n",
      "  [3. 4.]]\n",
      "\n",
      " [[5. 6.]\n",
      "  [7. 8.]]]; tensor_dtype: float64; tensor_shape: (2, 2, 2); tensor_size: 8; tensor_ndim: 3\n"
     ]
    }
   ],
   "source": [
    "print(f\"scalar: {scalar}; scalar_dtype: {scalar.dtype}; scalar_shape: {scalar.shape}; scalar_size: {scalar.size}; scalar_ndim: {scalar.ndim}\")\n",
    "print(f\"vector: {vector}; vector_dtype: {vector.dtype}; vector_shape: {vector.shape}; vector_size: {vector.size}; vector_ndim: {vector.ndim}\")\n",
    "print(f\"matrix: {matrix}; matrix_dtype: {matrix.dtype}; matrix_shape: {matrix.shape}; matrix_size: {matrix.size}; matrix_ndim: {matrix.ndim}\")\n",
    "print(f\"tensor: {tensor}; tensor_dtype: {tensor.dtype}; tensor_shape: {tensor.shape}; tensor_size: {tensor.size}; tensor_ndim: {tensor.ndim}\")"
   ]
  },
  {
   "cell_type": "markdown",
   "id": "ca6ebd81",
   "metadata": {
    "papermill": {
     "duration": 0.007975,
     "end_time": "2023-08-25T17:56:46.466084",
     "exception": false,
     "start_time": "2023-08-25T17:56:46.458109",
     "status": "completed"
    },
    "tags": []
   },
   "source": [
    "##### The ndim reference determines the object type. \n",
    "\n",
    "##### Such that, $0 \\rightarrow scalar$, $1 \\rightarrow vector$, $2 \\rightarrow matrix$, $3+ \\rightarrow tensor$"
   ]
  },
  {
   "cell_type": "markdown",
   "id": "ab2ca5aa",
   "metadata": {
    "papermill": {
     "duration": 0.008169,
     "end_time": "2023-08-25T17:56:46.483669",
     "exception": false,
     "start_time": "2023-08-25T17:56:46.475500",
     "status": "completed"
    },
    "tags": []
   },
   "source": [
    "### Array creation <a id=2></a>\n",
    "\n",
    "Detailed version [here](https://numpy.org/doc/stable/reference/routines.array-creation.html)"
   ]
  },
  {
   "cell_type": "code",
   "execution_count": 4,
   "id": "5b3dbc23",
   "metadata": {
    "execution": {
     "iopub.execute_input": "2023-08-25T17:56:46.502673Z",
     "iopub.status.busy": "2023-08-25T17:56:46.502242Z",
     "iopub.status.idle": "2023-08-25T17:56:46.510877Z",
     "shell.execute_reply": "2023-08-25T17:56:46.509762Z"
    },
    "papermill": {
     "duration": 0.021175,
     "end_time": "2023-08-25T17:56:46.513679",
     "exception": false,
     "start_time": "2023-08-25T17:56:46.492504",
     "status": "completed"
    },
    "tags": []
   },
   "outputs": [
    {
     "name": "stdout",
     "output_type": "stream",
     "text": [
      "1\n",
      "3\n",
      "2\n",
      "2\n"
     ]
    }
   ],
   "source": [
    "# \"_like\", takes another array as an input and creates one as its size.\n",
    "\n",
    "ones_vector = np.ones(10)\n",
    "zeros_tensor = np.zeros_like(tensor)\n",
    "empty_matrix = np.empty_like(matrix)\n",
    "fulled_matrix = np.full_like(matrix, 5)\n",
    "\n",
    "print(ones_vector.ndim)\n",
    "print(zeros_tensor.ndim)\n",
    "print(empty_matrix.ndim)\n",
    "print(fulled_matrix.ndim)"
   ]
  },
  {
   "cell_type": "markdown",
   "id": "86ef104b",
   "metadata": {
    "papermill": {
     "duration": 0.009187,
     "end_time": "2023-08-25T17:56:46.532316",
     "exception": false,
     "start_time": "2023-08-25T17:56:46.523129",
     "status": "completed"
    },
    "tags": []
   },
   "source": [
    "##### Also, we can provide range to create NumPy arrays with functions."
   ]
  },
  {
   "cell_type": "code",
   "execution_count": 5,
   "id": "54ef7b3a",
   "metadata": {
    "execution": {
     "iopub.execute_input": "2023-08-25T17:56:46.551045Z",
     "iopub.status.busy": "2023-08-25T17:56:46.549852Z",
     "iopub.status.idle": "2023-08-25T17:56:46.558145Z",
     "shell.execute_reply": "2023-08-25T17:56:46.557189Z"
    },
    "papermill": {
     "duration": 0.020046,
     "end_time": "2023-08-25T17:56:46.560870",
     "exception": false,
     "start_time": "2023-08-25T17:56:46.540824",
     "status": "completed"
    },
    "tags": []
   },
   "outputs": [
    {
     "name": "stdout",
     "output_type": "stream",
     "text": [
      "[0 2 4 6 8]\n",
      "[ 0.   2.5  5.   7.5 10. ]\n",
      "[0 1 2 3 4 5 6 7 8 9]\n"
     ]
    }
   ],
   "source": [
    "#arange creates evenly spaced array in given start and stop index [start, stop)\n",
    "\n",
    "range_vector_1 = np.arange(0, 10, 2)\n",
    "print(range_vector_1)\n",
    "\n",
    "#linspace requires the number of points for the given interval.\n",
    "range_vector_2 = np.linspace(0, 10, 5)\n",
    "print(range_vector_2)\n",
    "\n",
    "#this also works\n",
    "print(np.arange(10))"
   ]
  },
  {
   "cell_type": "markdown",
   "id": "14a43ab5",
   "metadata": {
    "papermill": {
     "duration": 0.006406,
     "end_time": "2023-08-25T17:56:46.574039",
     "exception": false,
     "start_time": "2023-08-25T17:56:46.567633",
     "status": "completed"
    },
    "tags": []
   },
   "source": [
    "### Array manipulation <a id=3></a>\n",
    "\n",
    "Detailed version [here](https://numpy.org/doc/stable/reference/routines.array-manipulation.html)"
   ]
  },
  {
   "cell_type": "code",
   "execution_count": 6,
   "id": "0acf4f9a",
   "metadata": {
    "execution": {
     "iopub.execute_input": "2023-08-25T17:56:46.588936Z",
     "iopub.status.busy": "2023-08-25T17:56:46.588316Z",
     "iopub.status.idle": "2023-08-25T17:56:46.596536Z",
     "shell.execute_reply": "2023-08-25T17:56:46.595389Z"
    },
    "papermill": {
     "duration": 0.018382,
     "end_time": "2023-08-25T17:56:46.598931",
     "exception": false,
     "start_time": "2023-08-25T17:56:46.580549",
     "status": "completed"
    },
    "tags": []
   },
   "outputs": [
    {
     "name": "stdout",
     "output_type": "stream",
     "text": [
      "[[1. 1. 1.]\n",
      " [1. 1. 1.]\n",
      " [0. 0. 0.]\n",
      " [0. 0. 0.]]\n",
      "[[1. 1. 1. 0. 0. 0.]\n",
      " [1. 1. 1. 0. 0. 0.]]\n",
      "[[[1. 0.]\n",
      "  [1. 0.]\n",
      "  [1. 0.]]]\n"
     ]
    }
   ],
   "source": [
    "# For merging I prefer np.concatenate and np.stack\n",
    "\n",
    "arr_1 = np.ones((2, 3))\n",
    "arr_2 = np.zeros((2, 3))\n",
    "\n",
    "arr_conc_0 = np.concatenate((arr_1, arr_2), axis=0)\n",
    "print(arr_conc_0)\n",
    "\n",
    "arr_conc_1 = np.concatenate((arr_1, arr_2), axis=1)\n",
    "print(arr_conc_1)\n",
    "\n",
    "arr_3 = np.ones((1, 3))\n",
    "arr_4 = np.zeros((1, 3))\n",
    "\n",
    "arr_stack_1 = np.stack((arr_3, arr_4), axis=-1)\n",
    "print(arr_stack_1)\n",
    "\n",
    "# hstack and vstack are also good options"
   ]
  },
  {
   "cell_type": "code",
   "execution_count": 7,
   "id": "f200fcc0",
   "metadata": {
    "execution": {
     "iopub.execute_input": "2023-08-25T17:56:46.615063Z",
     "iopub.status.busy": "2023-08-25T17:56:46.614033Z",
     "iopub.status.idle": "2023-08-25T17:56:46.622197Z",
     "shell.execute_reply": "2023-08-25T17:56:46.620984Z"
    },
    "papermill": {
     "duration": 0.018355,
     "end_time": "2023-08-25T17:56:46.624219",
     "exception": false,
     "start_time": "2023-08-25T17:56:46.605864",
     "status": "completed"
    },
    "tags": []
   },
   "outputs": [
    {
     "name": "stdout",
     "output_type": "stream",
     "text": [
      "[array([[1., 1., 1., 0., 0., 0.]]), array([[1., 1., 1., 0., 0., 0.]])]\n",
      "[array([[1., 1., 1.],\n",
      "       [1., 1., 1.]]), array([[0., 0., 0.],\n",
      "       [0., 0., 0.]])]\n"
     ]
    }
   ],
   "source": [
    "# For splitting I prefer np.split and np.data_split. These functions are extremely similar, please check their documentation for the difference.\n",
    "\n",
    "print(np.split(arr_conc_1, 2))\n",
    "print(np.split(arr_conc_1, 2, axis= 1))"
   ]
  },
  {
   "cell_type": "markdown",
   "id": "4e6f67eb",
   "metadata": {
    "papermill": {
     "duration": 0.00722,
     "end_time": "2023-08-25T17:56:46.638363",
     "exception": false,
     "start_time": "2023-08-25T17:56:46.631143",
     "status": "completed"
    },
    "tags": []
   },
   "source": [
    "### Shape operations <a id=4></a>"
   ]
  },
  {
   "cell_type": "code",
   "execution_count": 8,
   "id": "092cdaa5",
   "metadata": {
    "execution": {
     "iopub.execute_input": "2023-08-25T17:56:46.656000Z",
     "iopub.status.busy": "2023-08-25T17:56:46.655094Z",
     "iopub.status.idle": "2023-08-25T17:56:46.664052Z",
     "shell.execute_reply": "2023-08-25T17:56:46.662717Z"
    },
    "papermill": {
     "duration": 0.019822,
     "end_time": "2023-08-25T17:56:46.666578",
     "exception": false,
     "start_time": "2023-08-25T17:56:46.646756",
     "status": "completed"
    },
    "tags": []
   },
   "outputs": [
    {
     "name": "stdout",
     "output_type": "stream",
     "text": [
      "[0 1 2 3 4 5 6 7]\t(8,)\n",
      "[[0 1 2 3 4 5 6 7]]\t(1, 8)\n",
      "[[0]\n",
      " [1]\n",
      " [2]\n",
      " [3]\n",
      " [4]\n",
      " [5]\n",
      " [6]\n",
      " [7]]\t(8, 1)\n",
      "[[0 1 2 3]\n",
      " [4 5 6 7]]\t(2, 4)\n",
      "[[[0 1]\n",
      "  [2 3]]\n",
      "\n",
      " [[4 5]\n",
      "  [6 7]]]\t(2, 2, 2)\n"
     ]
    }
   ],
   "source": [
    "arr = np.arange(8)\n",
    "print(f\"{arr}\\t{arr.shape}\")\n",
    "\n",
    "row_vector = arr.reshape((1,8))\n",
    "print(f\"{row_vector}\\t{row_vector.shape}\")\n",
    "\n",
    "# if you put -1, NumPy calculates the dimension for that shape.\n",
    "col_vector = arr.reshape((-1, 1))\n",
    "print(f\"{col_vector}\\t{col_vector.shape}\")\n",
    "\n",
    "matrix = arr.reshape((2,4))\n",
    "print(f\"{matrix}\\t{matrix.shape}\")\n",
    "\n",
    "tensor = arr.reshape((2,-1,2))\n",
    "print(f\"{tensor}\\t{tensor.shape}\")"
   ]
  },
  {
   "cell_type": "markdown",
   "id": "c3f9f9ff",
   "metadata": {
    "papermill": {
     "duration": 0.006755,
     "end_time": "2023-08-25T17:56:46.681764",
     "exception": false,
     "start_time": "2023-08-25T17:56:46.675009",
     "status": "completed"
    },
    "tags": []
   },
   "source": [
    "##### NumPy arrays stored as contiguous blocks in memory. Reshaping does not change the location of the array in memory. The default order is by row, one can change this by using \"F\" order (Fortran)."
   ]
  },
  {
   "cell_type": "code",
   "execution_count": 9,
   "id": "99a4b235",
   "metadata": {
    "execution": {
     "iopub.execute_input": "2023-08-25T17:56:46.697729Z",
     "iopub.status.busy": "2023-08-25T17:56:46.696903Z",
     "iopub.status.idle": "2023-08-25T17:56:46.704670Z",
     "shell.execute_reply": "2023-08-25T17:56:46.703641Z"
    },
    "papermill": {
     "duration": 0.018278,
     "end_time": "2023-08-25T17:56:46.706763",
     "exception": false,
     "start_time": "2023-08-25T17:56:46.688485",
     "status": "completed"
    },
    "tags": []
   },
   "outputs": [
    {
     "name": "stdout",
     "output_type": "stream",
     "text": [
      "[[0 1 2 3 4 5 6 7]], [[0 1 2 3 4 5 6 7]]\n",
      "True\n"
     ]
    }
   ],
   "source": [
    "# Transpose operation is also important\n",
    "\n",
    "print(f\"{row_vector}, {np.transpose(col_vector)}\")\n",
    "\n",
    "print(np.allclose(row_vector, np.transpose(col_vector)))"
   ]
  },
  {
   "cell_type": "code",
   "execution_count": 10,
   "id": "78c2d77e",
   "metadata": {
    "execution": {
     "iopub.execute_input": "2023-08-25T17:56:46.724352Z",
     "iopub.status.busy": "2023-08-25T17:56:46.723636Z",
     "iopub.status.idle": "2023-08-25T17:56:46.729920Z",
     "shell.execute_reply": "2023-08-25T17:56:46.728842Z"
    },
    "papermill": {
     "duration": 0.01645,
     "end_time": "2023-08-25T17:56:46.731926",
     "exception": false,
     "start_time": "2023-08-25T17:56:46.715476",
     "status": "completed"
    },
    "tags": []
   },
   "outputs": [
    {
     "name": "stdout",
     "output_type": "stream",
     "text": [
      "(3, 4, 5)\n",
      "(5, 4, 3)\n",
      "(4, 3, 5)\n"
     ]
    }
   ],
   "source": [
    "# But it is tricky for tensors. You should be careful.\n",
    "\n",
    "tensor = np.arange(3*4*5).reshape(3,4,5)\n",
    "print(tensor.shape)\n",
    "\n",
    "tensor_transpose_default = np.transpose(tensor)\n",
    "print(tensor_transpose_default.shape)\n",
    "\n",
    "tensor_transpose_input = np.transpose(tensor, (1, 0, 2))\n",
    "print(tensor_transpose_input.shape)\n",
    "\n",
    "# you should give the order of the transpose."
   ]
  },
  {
   "cell_type": "markdown",
   "id": "4630e88a",
   "metadata": {
    "papermill": {
     "duration": 0.006624,
     "end_time": "2023-08-25T17:56:46.745303",
     "exception": false,
     "start_time": "2023-08-25T17:56:46.738679",
     "status": "completed"
    },
    "tags": []
   },
   "source": [
    "### Indexing  <a id=5></a>\n",
    "\n",
    "##### NumPy uses Python indexing and slicing. We can also use NumPy indexing and slicing for tensors as well."
   ]
  },
  {
   "cell_type": "code",
   "execution_count": 11,
   "id": "1b1886be",
   "metadata": {
    "execution": {
     "iopub.execute_input": "2023-08-25T17:56:46.760997Z",
     "iopub.status.busy": "2023-08-25T17:56:46.760107Z",
     "iopub.status.idle": "2023-08-25T17:56:46.767420Z",
     "shell.execute_reply": "2023-08-25T17:56:46.766432Z"
    },
    "papermill": {
     "duration": 0.017474,
     "end_time": "2023-08-25T17:56:46.769453",
     "exception": false,
     "start_time": "2023-08-25T17:56:46.751979",
     "status": "completed"
    },
    "tags": []
   },
   "outputs": [
    {
     "name": "stdout",
     "output_type": "stream",
     "text": [
      "[[0 1 2 3 4]\n",
      " [5 6 7 8 9]], [[0 1 2 3 4]]\n"
     ]
    }
   ],
   "source": [
    "arr = np.arange(10).reshape(2,5)\n",
    "print(f\"{arr}, {arr[::2]}\")"
   ]
  },
  {
   "cell_type": "code",
   "execution_count": 12,
   "id": "e8c9ad16",
   "metadata": {
    "execution": {
     "iopub.execute_input": "2023-08-25T17:56:46.785572Z",
     "iopub.status.busy": "2023-08-25T17:56:46.784595Z",
     "iopub.status.idle": "2023-08-25T17:56:46.791009Z",
     "shell.execute_reply": "2023-08-25T17:56:46.789673Z"
    },
    "papermill": {
     "duration": 0.016343,
     "end_time": "2023-08-25T17:56:46.792852",
     "exception": false,
     "start_time": "2023-08-25T17:56:46.776509",
     "status": "completed"
    },
    "tags": []
   },
   "outputs": [
    {
     "name": "stdout",
     "output_type": "stream",
     "text": [
      "[[[ 0  1  2  3]\n",
      "  [ 4  5  6  7]\n",
      "  [ 8  9 10 11]]\n",
      "\n",
      " [[12 13 14 15]\n",
      "  [16 17 18 19]\n",
      "  [20 21 22 23]]]\n",
      "\n",
      " [ 1 13]\n"
     ]
    }
   ],
   "source": [
    "arr = np.arange(24).reshape(2,3,4)\n",
    "print(f\"{arr}\\n\\n {arr[::, 0, 1]}\")"
   ]
  },
  {
   "cell_type": "markdown",
   "id": "afc65abe",
   "metadata": {
    "papermill": {
     "duration": 0.006795,
     "end_time": "2023-08-25T17:56:46.806523",
     "exception": false,
     "start_time": "2023-08-25T17:56:46.799728",
     "status": "completed"
    },
    "tags": []
   },
   "source": [
    "### Broadcasting  <a id=6></a>\n",
    "\n",
    "##### One of the most fundamental and most useful feature of the NumPy. It simply it reshapes the arrays automatically so that the inputs will be compatible. Please check quick official [tutorial](https://numpy.org/doc/stable/user/basics.broadcasting.html). "
   ]
  },
  {
   "cell_type": "code",
   "execution_count": 13,
   "id": "1a521479",
   "metadata": {
    "execution": {
     "iopub.execute_input": "2023-08-25T17:56:46.822333Z",
     "iopub.status.busy": "2023-08-25T17:56:46.821771Z",
     "iopub.status.idle": "2023-08-25T17:56:46.828755Z",
     "shell.execute_reply": "2023-08-25T17:56:46.827787Z"
    },
    "papermill": {
     "duration": 0.017333,
     "end_time": "2023-08-25T17:56:46.830684",
     "exception": false,
     "start_time": "2023-08-25T17:56:46.813351",
     "status": "completed"
    },
    "tags": []
   },
   "outputs": [
    {
     "data": {
      "text/plain": [
       "array([3, 6, 9])"
      ]
     },
     "execution_count": 13,
     "metadata": {},
     "output_type": "execute_result"
    }
   ],
   "source": [
    "a = np.array([1, 2, 3])\n",
    "b = np.array([3, 3, 3])\n",
    "\n",
    "a * b"
   ]
  },
  {
   "cell_type": "code",
   "execution_count": 14,
   "id": "769f8624",
   "metadata": {
    "execution": {
     "iopub.execute_input": "2023-08-25T17:56:46.847442Z",
     "iopub.status.busy": "2023-08-25T17:56:46.846846Z",
     "iopub.status.idle": "2023-08-25T17:56:46.852391Z",
     "shell.execute_reply": "2023-08-25T17:56:46.851647Z"
    },
    "papermill": {
     "duration": 0.015986,
     "end_time": "2023-08-25T17:56:46.854427",
     "exception": false,
     "start_time": "2023-08-25T17:56:46.838441",
     "status": "completed"
    },
    "tags": []
   },
   "outputs": [
    {
     "data": {
      "text/plain": [
       "array([3, 6, 9])"
      ]
     },
     "execution_count": 14,
     "metadata": {},
     "output_type": "execute_result"
    }
   ],
   "source": [
    "a = np.array([1, 2, 3])\n",
    "b = 3\n",
    "\n",
    "a * b # Possible thanks to broadcasting"
   ]
  },
  {
   "cell_type": "code",
   "execution_count": 15,
   "id": "0983013d",
   "metadata": {
    "execution": {
     "iopub.execute_input": "2023-08-25T17:56:46.871228Z",
     "iopub.status.busy": "2023-08-25T17:56:46.870606Z",
     "iopub.status.idle": "2023-08-25T17:56:46.876797Z",
     "shell.execute_reply": "2023-08-25T17:56:46.876089Z"
    },
    "papermill": {
     "duration": 0.017059,
     "end_time": "2023-08-25T17:56:46.878869",
     "exception": false,
     "start_time": "2023-08-25T17:56:46.861810",
     "status": "completed"
    },
    "tags": []
   },
   "outputs": [
    {
     "data": {
      "text/plain": [
       "array([[2, 2, 2],\n",
       "       [3, 3, 3],\n",
       "       [4, 4, 4],\n",
       "       [5, 5, 5]])"
      ]
     },
     "execution_count": 15,
     "metadata": {},
     "output_type": "execute_result"
    }
   ],
   "source": [
    "a = np.array([  [0, 0, 0],\n",
    "                [1, 1, 1],\n",
    "                [2, 2, 2],\n",
    "                [3, 3, 3]])\n",
    "\n",
    "b = np.array([2,2,2])\n",
    "\n",
    "a + b"
   ]
  },
  {
   "cell_type": "code",
   "execution_count": 16,
   "id": "7f3b3ceb",
   "metadata": {
    "execution": {
     "iopub.execute_input": "2023-08-25T17:56:46.895766Z",
     "iopub.status.busy": "2023-08-25T17:56:46.895333Z",
     "iopub.status.idle": "2023-08-25T17:56:46.902432Z",
     "shell.execute_reply": "2023-08-25T17:56:46.901503Z"
    },
    "papermill": {
     "duration": 0.018019,
     "end_time": "2023-08-25T17:56:46.904342",
     "exception": false,
     "start_time": "2023-08-25T17:56:46.886323",
     "status": "completed"
    },
    "tags": []
   },
   "outputs": [
    {
     "data": {
      "text/plain": [
       "array([[1., 1., 1., 1.],\n",
       "       [1., 1., 1., 1.],\n",
       "       [1., 1., 1., 1.],\n",
       "       [1., 1., 1., 1.]])"
      ]
     },
     "execution_count": 16,
     "metadata": {},
     "output_type": "execute_result"
    }
   ],
   "source": [
    "# One should also need to be careful. Broadcasting may lead unwanted results.\n",
    "\n",
    "a = np.zeros((4,1))\n",
    "b = np.ones((4))\n",
    "\n",
    "a + b"
   ]
  },
  {
   "cell_type": "markdown",
   "id": "a2a1bee4",
   "metadata": {
    "papermill": {
     "duration": 0.007599,
     "end_time": "2023-08-25T17:56:46.919404",
     "exception": false,
     "start_time": "2023-08-25T17:56:46.911805",
     "status": "completed"
    },
    "tags": []
   },
   "source": [
    "### Matrix Multiplication  <a id=7></a>\n",
    "\n",
    "##### operand \"@\""
   ]
  },
  {
   "cell_type": "code",
   "execution_count": 17,
   "id": "d0796d58",
   "metadata": {
    "execution": {
     "iopub.execute_input": "2023-08-25T17:56:46.937088Z",
     "iopub.status.busy": "2023-08-25T17:56:46.935949Z",
     "iopub.status.idle": "2023-08-25T17:56:46.945902Z",
     "shell.execute_reply": "2023-08-25T17:56:46.944735Z"
    },
    "papermill": {
     "duration": 0.020954,
     "end_time": "2023-08-25T17:56:46.948032",
     "exception": false,
     "start_time": "2023-08-25T17:56:46.927078",
     "status": "completed"
    },
    "tags": []
   },
   "outputs": [
    {
     "name": "stdout",
     "output_type": "stream",
     "text": [
      "[[1. 0.]\n",
      " [0. 1.]]\n",
      "[[ 1.48889636 -2.84198179 -0.2326285 ]\n",
      " [ 0.51688541 -1.03007908 -0.04972801]]\n",
      "[[ 1.48889636 -2.84198179 -0.2326285 ]\n",
      " [ 0.51688541 -1.03007908 -0.04972801]]\n"
     ]
    }
   ],
   "source": [
    "I_2 = np.eye(2)\n",
    "\n",
    "A = np.random.randn(2,3)\n",
    "\n",
    "print(I_2)\n",
    "print(A)\n",
    "\n",
    "print(I_2 @ A)"
   ]
  },
  {
   "cell_type": "markdown",
   "id": "e9ac329f",
   "metadata": {
    "papermill": {
     "duration": 0.007379,
     "end_time": "2023-08-25T17:56:46.962848",
     "exception": false,
     "start_time": "2023-08-25T17:56:46.955469",
     "status": "completed"
    },
    "tags": []
   },
   "source": [
    "### Conclusion\n",
    "\n",
    "#### Links: [GitHub](https://github.com/ahmetTuzen/Deep_Learning_Tutorials) and [LinkedIn](https://www.linkedin.com/in/ahmet-tuzen/)"
   ]
  }
 ],
 "metadata": {
  "kernelspec": {
   "display_name": "Python 3",
   "language": "python",
   "name": "python3"
  },
  "language_info": {
   "codemirror_mode": {
    "name": "ipython",
    "version": 3
   },
   "file_extension": ".py",
   "mimetype": "text/x-python",
   "name": "python",
   "nbconvert_exporter": "python",
   "pygments_lexer": "ipython3",
   "version": "3.10.12"
  },
  "papermill": {
   "default_parameters": {},
   "duration": 10.30417,
   "end_time": "2023-08-25T17:56:47.691124",
   "environment_variables": {},
   "exception": null,
   "input_path": "__notebook__.ipynb",
   "output_path": "__notebook__.ipynb",
   "parameters": {},
   "start_time": "2023-08-25T17:56:37.386954",
   "version": "2.4.0"
  }
 },
 "nbformat": 4,
 "nbformat_minor": 5
}
