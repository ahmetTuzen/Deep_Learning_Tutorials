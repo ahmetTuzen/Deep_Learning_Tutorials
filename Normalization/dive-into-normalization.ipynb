{
 "cells": [
  {
   "cell_type": "markdown",
   "id": "2d855b3f",
   "metadata": {
    "papermill": {
     "duration": 0.018818,
     "end_time": "2023-09-02T07:35:23.144372",
     "exception": false,
     "start_time": "2023-09-02T07:35:23.125554",
     "status": "completed"
    },
    "tags": []
   },
   "source": [
    "### Hello everyone, in this mini notebook, we will examine some important normalization techniques topics.\n",
    "\n",
    "### I hope you will remember these topics or even learn some!"
   ]
  },
  {
   "cell_type": "markdown",
   "id": "553fded5",
   "metadata": {
    "papermill": {
     "duration": 0.014132,
     "end_time": "2023-09-02T07:35:23.173292",
     "exception": false,
     "start_time": "2023-09-02T07:35:23.159160",
     "status": "completed"
    },
    "tags": []
   },
   "source": [
    "# Table of Contents\n",
    "\n",
    "1. [Introduction](#1)\n",
    "1. [Min-max normalization](#2)\n",
    "    1. [Definition](#2.1)\n",
    "    1. [Implementation](#2.2)\n",
    "    1. [When to use](#2.3)\n",
    "    1. [Close variations](#2.4)\n",
    "1. [Z-score normalization](#3)\n",
    "    1. [Definition](#3.1)\n",
    "    1. [Implementation](#3.2)\n",
    "    1. [When to use](#3.3)\n",
    "    1. [Deal with outliers: min-max vs. z-score](#3.4)\n",
    "1. [Robust normalization](#4)\n",
    "    1. [Definition](#4.1)\n",
    "    1. [Implementation](#4.2)\n",
    "    1. [When to use](#4.3)    \n",
    "1. [Power normalization](#5)\n",
    "    1. [Definition](#5.1)\n",
    "    1. [Implementation](#5.2)\n",
    "1. Batch normalization\n",
    "1. Layer normalization\n",
    "1. Group normalization\n",
    "1. Local response normalization\n",
    "\n",
    "##### *Note: I will examine normalization techniques (after #6) in different notebook as they are very different than rest of normalization techniques. I will provide a link when that notebook is ready.*"
   ]
  },
  {
   "cell_type": "markdown",
   "id": "6fa3dcaf",
   "metadata": {
    "papermill": {
     "duration": 0.013787,
     "end_time": "2023-09-02T07:35:23.202165",
     "exception": false,
     "start_time": "2023-09-02T07:35:23.188378",
     "status": "completed"
    },
    "tags": []
   },
   "source": [
    "## Introduction <a id=1></a>\n",
    "\n",
    "##### Normalization is a technique used in machine learning and deep learning models that helps model with training (and,  of course testing) as well as the convergence.\n",
    "\n",
    "##### Normalization usually done at the data prepation phase, but some techniques can be applied during training.\n",
    "\n"
   ]
  },
  {
   "cell_type": "markdown",
   "id": "f7d9eda6",
   "metadata": {
    "papermill": {
     "duration": 0.013978,
     "end_time": "2023-09-02T07:35:23.234091",
     "exception": false,
     "start_time": "2023-09-02T07:35:23.220113",
     "status": "completed"
    },
    "tags": []
   },
   "source": [
    "## Min-max normalization <a id=2></a>\n",
    "\n",
    "### Definition <a id=2.1></a>\n",
    "\n",
    "##### Min-max normalization (also known as min-max scaling) is one of the simplest normalization techniques and belongs to the linear normalization. \n",
    "\n",
    "##### It is applied in data pre-processing and it maps the values to the desired range (usually between 0 and 1).\n",
    "\n",
    "##### $ X_{\\text{normalized}} = \\frac{X - X_{\\text{min}}}{X_{\\text{max}} - X_{\\text{min}}} $\n"
   ]
  },
  {
   "cell_type": "markdown",
   "id": "5f344197",
   "metadata": {
    "papermill": {
     "duration": 0.01438,
     "end_time": "2023-09-02T07:35:23.262869",
     "exception": false,
     "start_time": "2023-09-02T07:35:23.248489",
     "status": "completed"
    },
    "tags": []
   },
   "source": [
    "### Implementation <a id=2.2></a>\n",
    "\n",
    "##### Lets implement it by ourselves first."
   ]
  },
  {
   "cell_type": "markdown",
   "id": "2f07502f",
   "metadata": {
    "papermill": {
     "duration": 0.013836,
     "end_time": "2023-09-02T07:35:23.291425",
     "exception": false,
     "start_time": "2023-09-02T07:35:23.277589",
     "status": "completed"
    },
    "tags": []
   },
   "source": []
  },
  {
   "cell_type": "code",
   "execution_count": 1,
   "id": "c380aa60",
   "metadata": {
    "_cell_guid": "b1076dfc-b9ad-4769-8c92-a6c4dae69d19",
    "_uuid": "8f2839f25d086af736a60e9eeb907d3b93b6e0e5",
    "execution": {
     "iopub.execute_input": "2023-09-02T07:35:23.323668Z",
     "iopub.status.busy": "2023-09-02T07:35:23.321883Z",
     "iopub.status.idle": "2023-09-02T07:35:23.337643Z",
     "shell.execute_reply": "2023-09-02T07:35:23.336665Z"
    },
    "papermill": {
     "duration": 0.034823,
     "end_time": "2023-09-02T07:35:23.340601",
     "exception": false,
     "start_time": "2023-09-02T07:35:23.305778",
     "status": "completed"
    },
    "tags": []
   },
   "outputs": [],
   "source": [
    "import numpy as np\n",
    "import matplotlib.pyplot as plt\n",
    "\n",
    "%matplotlib inline\n",
    "plt.style.use('ggplot')"
   ]
  },
  {
   "cell_type": "code",
   "execution_count": 2,
   "id": "f1c1aa62",
   "metadata": {
    "execution": {
     "iopub.execute_input": "2023-09-02T07:35:23.371047Z",
     "iopub.status.busy": "2023-09-02T07:35:23.370094Z",
     "iopub.status.idle": "2023-09-02T07:35:23.381398Z",
     "shell.execute_reply": "2023-09-02T07:35:23.380096Z"
    },
    "papermill": {
     "duration": 0.029759,
     "end_time": "2023-09-02T07:35:23.384291",
     "exception": false,
     "start_time": "2023-09-02T07:35:23.354532",
     "status": "completed"
    },
    "tags": []
   },
   "outputs": [
    {
     "data": {
      "text/plain": [
       "array([-4, -3, -2, -1,  0,  1,  2,  3,  4])"
      ]
     },
     "execution_count": 2,
     "metadata": {},
     "output_type": "execute_result"
    }
   ],
   "source": [
    "X = np.arange(-4, 5)\n",
    "X"
   ]
  },
  {
   "cell_type": "code",
   "execution_count": 3,
   "id": "e52d4a26",
   "metadata": {
    "execution": {
     "iopub.execute_input": "2023-09-02T07:35:23.415396Z",
     "iopub.status.busy": "2023-09-02T07:35:23.414776Z",
     "iopub.status.idle": "2023-09-02T07:35:23.421614Z",
     "shell.execute_reply": "2023-09-02T07:35:23.420144Z"
    },
    "papermill": {
     "duration": 0.026237,
     "end_time": "2023-09-02T07:35:23.424740",
     "exception": false,
     "start_time": "2023-09-02T07:35:23.398503",
     "status": "completed"
    },
    "tags": []
   },
   "outputs": [],
   "source": [
    "def min_max_norm(inp):\n",
    "    return (inp - np.min(inp))/(np.max(inp) - np.min(inp))"
   ]
  },
  {
   "cell_type": "markdown",
   "id": "ac80024b",
   "metadata": {
    "papermill": {
     "duration": 0.013495,
     "end_time": "2023-09-02T07:35:23.452303",
     "exception": false,
     "start_time": "2023-09-02T07:35:23.438808",
     "status": "completed"
    },
    "tags": []
   },
   "source": [
    "##### We use broadcasting here, for more information you can check my NumPy [notebook](https://www.kaggle.com/code/atuzen/important-numpy-concepts-for-deep-learning). "
   ]
  },
  {
   "cell_type": "code",
   "execution_count": 4,
   "id": "e9c53a7d",
   "metadata": {
    "execution": {
     "iopub.execute_input": "2023-09-02T07:35:23.483063Z",
     "iopub.status.busy": "2023-09-02T07:35:23.482515Z",
     "iopub.status.idle": "2023-09-02T07:35:23.494030Z",
     "shell.execute_reply": "2023-09-02T07:35:23.492510Z"
    },
    "papermill": {
     "duration": 0.030076,
     "end_time": "2023-09-02T07:35:23.496737",
     "exception": false,
     "start_time": "2023-09-02T07:35:23.466661",
     "status": "completed"
    },
    "tags": []
   },
   "outputs": [
    {
     "data": {
      "text/plain": [
       "array([0.   , 0.125, 0.25 , 0.375, 0.5  , 0.625, 0.75 , 0.875, 1.   ])"
      ]
     },
     "execution_count": 4,
     "metadata": {},
     "output_type": "execute_result"
    }
   ],
   "source": [
    "X_normalized = min_max_norm(X)\n",
    "X_normalized\n",
    "\n",
    "## Max value becomes 1 and min becomes 0, as intended"
   ]
  },
  {
   "cell_type": "markdown",
   "id": "343999ec",
   "metadata": {
    "papermill": {
     "duration": 0.013507,
     "end_time": "2023-09-02T07:35:23.524439",
     "exception": false,
     "start_time": "2023-09-02T07:35:23.510932",
     "status": "completed"
    },
    "tags": []
   },
   "source": [
    "##### Now generalize the formula to map values between [a, b]."
   ]
  },
  {
   "cell_type": "code",
   "execution_count": 5,
   "id": "ae256956",
   "metadata": {
    "execution": {
     "iopub.execute_input": "2023-09-02T07:35:23.554662Z",
     "iopub.status.busy": "2023-09-02T07:35:23.554116Z",
     "iopub.status.idle": "2023-09-02T07:35:23.560817Z",
     "shell.execute_reply": "2023-09-02T07:35:23.559484Z"
    },
    "papermill": {
     "duration": 0.025219,
     "end_time": "2023-09-02T07:35:23.563585",
     "exception": false,
     "start_time": "2023-09-02T07:35:23.538366",
     "status": "completed"
    },
    "tags": []
   },
   "outputs": [],
   "source": [
    "def min_max_norm_custom(inp, a, b):\n",
    "    return a + ((inp - np.min(inp)) * (b - a))/(np.max(inp) - np.min(inp))"
   ]
  },
  {
   "cell_type": "code",
   "execution_count": 6,
   "id": "46a41bcf",
   "metadata": {
    "execution": {
     "iopub.execute_input": "2023-09-02T07:35:23.593935Z",
     "iopub.status.busy": "2023-09-02T07:35:23.593432Z",
     "iopub.status.idle": "2023-09-02T07:35:23.602506Z",
     "shell.execute_reply": "2023-09-02T07:35:23.601451Z"
    },
    "papermill": {
     "duration": 0.027631,
     "end_time": "2023-09-02T07:35:23.605043",
     "exception": false,
     "start_time": "2023-09-02T07:35:23.577412",
     "status": "completed"
    },
    "tags": []
   },
   "outputs": [
    {
     "data": {
      "text/plain": [
       "array([-1.  , -0.75, -0.5 , -0.25,  0.  ,  0.25,  0.5 ,  0.75,  1.  ])"
      ]
     },
     "execution_count": 6,
     "metadata": {},
     "output_type": "execute_result"
    }
   ],
   "source": [
    "X_normalized = min_max_norm_custom(X, -1 , 1)\n",
    "X_normalized"
   ]
  },
  {
   "cell_type": "markdown",
   "id": "be854965",
   "metadata": {
    "papermill": {
     "duration": 0.013505,
     "end_time": "2023-09-02T07:35:23.632704",
     "exception": false,
     "start_time": "2023-09-02T07:35:23.619199",
     "status": "completed"
    },
    "tags": []
   },
   "source": [
    "##### Now, lets use the scikit-learn library. You can check details [here](https://scikit-learn.org/stable/modules/generated/sklearn.preprocessing.MinMaxScaler.html)"
   ]
  },
  {
   "cell_type": "code",
   "execution_count": 7,
   "id": "b127a65d",
   "metadata": {
    "execution": {
     "iopub.execute_input": "2023-09-02T07:35:23.662947Z",
     "iopub.status.busy": "2023-09-02T07:35:23.662431Z",
     "iopub.status.idle": "2023-09-02T07:35:25.009606Z",
     "shell.execute_reply": "2023-09-02T07:35:25.007887Z"
    },
    "papermill": {
     "duration": 1.365952,
     "end_time": "2023-09-02T07:35:25.012778",
     "exception": false,
     "start_time": "2023-09-02T07:35:23.646826",
     "status": "completed"
    },
    "tags": []
   },
   "outputs": [],
   "source": [
    "from sklearn.preprocessing import MinMaxScaler"
   ]
  },
  {
   "cell_type": "code",
   "execution_count": 8,
   "id": "5ac6d8b5",
   "metadata": {
    "execution": {
     "iopub.execute_input": "2023-09-02T07:35:25.043244Z",
     "iopub.status.busy": "2023-09-02T07:35:25.042682Z",
     "iopub.status.idle": "2023-09-02T07:35:25.051875Z",
     "shell.execute_reply": "2023-09-02T07:35:25.050935Z"
    },
    "papermill": {
     "duration": 0.027562,
     "end_time": "2023-09-02T07:35:25.054526",
     "exception": false,
     "start_time": "2023-09-02T07:35:25.026964",
     "status": "completed"
    },
    "tags": []
   },
   "outputs": [
    {
     "data": {
      "text/plain": [
       "array([[0.   ],\n",
       "       [0.125],\n",
       "       [0.25 ],\n",
       "       [0.375],\n",
       "       [0.5  ],\n",
       "       [0.625],\n",
       "       [0.75 ],\n",
       "       [0.875],\n",
       "       [1.   ]])"
      ]
     },
     "execution_count": 8,
     "metadata": {},
     "output_type": "execute_result"
    }
   ],
   "source": [
    "scaler = MinMaxScaler() \n",
    "X_scaled = scaler.fit_transform(X.reshape(-1,1))\n",
    "X_scaled"
   ]
  },
  {
   "cell_type": "markdown",
   "id": "12681426",
   "metadata": {
    "papermill": {
     "duration": 0.014194,
     "end_time": "2023-09-02T07:35:25.083605",
     "exception": false,
     "start_time": "2023-09-02T07:35:25.069411",
     "status": "completed"
    },
    "tags": []
   },
   "source": [
    "### When to use? <a id=2.3></a>\n",
    "\n",
    "##### As I mentioned before, this is one of the simplest approaches, meaning that it is quite straightforward.\n",
    "\n",
    "##### Use cases:\n",
    "\n",
    "* ##### The best case of this normalization is when the data is uniformly (or close to) distributed.\n",
    "\n",
    "* ##### If the data in specific range, (e.g., activation functions such as sigmoid, tanh), this scaling is good option.\n",
    "\n",
    "* ##### If the all features in data wanted to be impact the output equally.\n",
    "\n",
    "* ##### No outliers. (we will examine this later)\n",
    "\n",
    "#####  Not suitable:\n",
    "\n",
    "* ##### Not uniformly distributed data (such as normal distribution)\n",
    "\n",
    "* ##### High presence of outliers"
   ]
  },
  {
   "cell_type": "markdown",
   "id": "ab841db4",
   "metadata": {
    "papermill": {
     "duration": 0.013748,
     "end_time": "2023-09-02T07:35:25.111728",
     "exception": false,
     "start_time": "2023-09-02T07:35:25.097980",
     "status": "completed"
    },
    "tags": []
   },
   "source": [
    "### Close variations <a id=2.4></a>\n",
    "\n",
    "* ##### Max Abs scaling ([link](https://scikit-learn.org/stable/modules/generated/sklearn.preprocessing.MaxAbsScaler.html#sklearn.preprocessing.MaxAbsScaler))"
   ]
  },
  {
   "cell_type": "markdown",
   "id": "8a4cdd31",
   "metadata": {
    "papermill": {
     "duration": 0.013876,
     "end_time": "2023-09-02T07:35:25.140251",
     "exception": false,
     "start_time": "2023-09-02T07:35:25.126375",
     "status": "completed"
    },
    "tags": []
   },
   "source": [
    "## Z-score normalization <a id=3></a>\n",
    "\n",
    "### Definition <a id=3.1></a>\n",
    "\n",
    "##### Z-score normalization (also known as standardization) transforms input data to have 0 mean and 1 standart deviation. \n",
    "\n",
    "##### It is applied in data pre-processing. Formula:\n",
    "\n",
    "##### $ X_{standardized} = \\frac{X - \\mu}{\\sigma} $\n",
    "\n",
    "##### where $ \\mu $. is the mean and $ \\sigma $ is the standart deviation.\n",
    "\n",
    "##### After standardization, data is ensured to centered and consistently deviated around the mean."
   ]
  },
  {
   "cell_type": "markdown",
   "id": "490c5256",
   "metadata": {
    "papermill": {
     "duration": 0.013664,
     "end_time": "2023-09-02T07:35:25.168381",
     "exception": false,
     "start_time": "2023-09-02T07:35:25.154717",
     "status": "completed"
    },
    "tags": []
   },
   "source": [
    "### Implementation <a id=2.3></a>\n",
    "\n",
    "##### Lets implement it by ourselves first."
   ]
  },
  {
   "cell_type": "code",
   "execution_count": 9,
   "id": "8552c76c",
   "metadata": {
    "execution": {
     "iopub.execute_input": "2023-09-02T07:35:25.200189Z",
     "iopub.status.busy": "2023-09-02T07:35:25.198478Z",
     "iopub.status.idle": "2023-09-02T07:35:25.206145Z",
     "shell.execute_reply": "2023-09-02T07:35:25.204866Z"
    },
    "papermill": {
     "duration": 0.026143,
     "end_time": "2023-09-02T07:35:25.208894",
     "exception": false,
     "start_time": "2023-09-02T07:35:25.182751",
     "status": "completed"
    },
    "tags": []
   },
   "outputs": [],
   "source": [
    "def z_score(inp):\n",
    "    mu = np.mean(inp)\n",
    "    sigma = np.std(inp)\n",
    "    return (inp - mu) / sigma"
   ]
  },
  {
   "cell_type": "code",
   "execution_count": 10,
   "id": "7e55b5a0",
   "metadata": {
    "execution": {
     "iopub.execute_input": "2023-09-02T07:35:25.239602Z",
     "iopub.status.busy": "2023-09-02T07:35:25.239216Z",
     "iopub.status.idle": "2023-09-02T07:35:25.248352Z",
     "shell.execute_reply": "2023-09-02T07:35:25.246970Z"
    },
    "papermill": {
     "duration": 0.027878,
     "end_time": "2023-09-02T07:35:25.251049",
     "exception": false,
     "start_time": "2023-09-02T07:35:25.223171",
     "status": "completed"
    },
    "tags": []
   },
   "outputs": [
    {
     "data": {
      "text/plain": [
       "(array([-4, -3, -2, -1,  0,  1,  2,  3,  4]),\n",
       " array([-1.54919334, -1.161895  , -0.77459667, -0.38729833,  0.        ,\n",
       "         0.38729833,  0.77459667,  1.161895  ,  1.54919334]))"
      ]
     },
     "execution_count": 10,
     "metadata": {},
     "output_type": "execute_result"
    }
   ],
   "source": [
    "X_normalized = z_score(X)\n",
    "X, X_normalized"
   ]
  },
  {
   "cell_type": "markdown",
   "id": "9cfb5e3d",
   "metadata": {
    "papermill": {
     "duration": 0.014715,
     "end_time": "2023-09-02T07:35:25.343404",
     "exception": false,
     "start_time": "2023-09-02T07:35:25.328689",
     "status": "completed"
    },
    "tags": []
   },
   "source": [
    "##### As you can see, this normalizes data way differently than min-max scaling.\n",
    "\n",
    "##### We can also use with given mean and input, but it will not be necessary in most cases."
   ]
  },
  {
   "cell_type": "code",
   "execution_count": 11,
   "id": "8d1e5743",
   "metadata": {
    "execution": {
     "iopub.execute_input": "2023-09-02T07:35:25.374006Z",
     "iopub.status.busy": "2023-09-02T07:35:25.373595Z",
     "iopub.status.idle": "2023-09-02T07:35:25.379111Z",
     "shell.execute_reply": "2023-09-02T07:35:25.377739Z"
    },
    "papermill": {
     "duration": 0.023658,
     "end_time": "2023-09-02T07:35:25.381537",
     "exception": false,
     "start_time": "2023-09-02T07:35:25.357879",
     "status": "completed"
    },
    "tags": []
   },
   "outputs": [],
   "source": [
    "def z_score_custom(inp, mu, sigma):\n",
    "    return (inp - mu) / sigma"
   ]
  },
  {
   "cell_type": "markdown",
   "id": "6c10e7cc",
   "metadata": {
    "papermill": {
     "duration": 0.013722,
     "end_time": "2023-09-02T07:35:25.409179",
     "exception": false,
     "start_time": "2023-09-02T07:35:25.395457",
     "status": "completed"
    },
    "tags": []
   },
   "source": [
    "##### Now, lets use sklearn"
   ]
  },
  {
   "cell_type": "code",
   "execution_count": 12,
   "id": "5a5a2b26",
   "metadata": {
    "execution": {
     "iopub.execute_input": "2023-09-02T07:35:25.439955Z",
     "iopub.status.busy": "2023-09-02T07:35:25.439581Z",
     "iopub.status.idle": "2023-09-02T07:35:25.449988Z",
     "shell.execute_reply": "2023-09-02T07:35:25.448493Z"
    },
    "papermill": {
     "duration": 0.029344,
     "end_time": "2023-09-02T07:35:25.452741",
     "exception": false,
     "start_time": "2023-09-02T07:35:25.423397",
     "status": "completed"
    },
    "tags": []
   },
   "outputs": [
    {
     "data": {
      "text/plain": [
       "array([[-1.54919334],\n",
       "       [-1.161895  ],\n",
       "       [-0.77459667],\n",
       "       [-0.38729833],\n",
       "       [ 0.        ],\n",
       "       [ 0.38729833],\n",
       "       [ 0.77459667],\n",
       "       [ 1.161895  ],\n",
       "       [ 1.54919334]])"
      ]
     },
     "execution_count": 12,
     "metadata": {},
     "output_type": "execute_result"
    }
   ],
   "source": [
    "from sklearn.preprocessing import StandardScaler\n",
    "\n",
    "scaler = StandardScaler() \n",
    "X_scaled = scaler.fit_transform(X.reshape(-1,1))\n",
    "X_scaled"
   ]
  },
  {
   "cell_type": "code",
   "execution_count": 13,
   "id": "eebeb46c",
   "metadata": {
    "execution": {
     "iopub.execute_input": "2023-09-02T07:35:25.483893Z",
     "iopub.status.busy": "2023-09-02T07:35:25.483513Z",
     "iopub.status.idle": "2023-09-02T07:35:25.491658Z",
     "shell.execute_reply": "2023-09-02T07:35:25.490319Z"
    },
    "papermill": {
     "duration": 0.026834,
     "end_time": "2023-09-02T07:35:25.494147",
     "exception": false,
     "start_time": "2023-09-02T07:35:25.467313",
     "status": "completed"
    },
    "tags": []
   },
   "outputs": [
    {
     "data": {
      "text/plain": [
       "True"
      ]
     },
     "execution_count": 13,
     "metadata": {},
     "output_type": "execute_result"
    }
   ],
   "source": [
    "# lets check if two versions are equal.\n",
    "\n",
    "np.allclose(X_normalized.reshape(-1, 1), X_scaled)"
   ]
  },
  {
   "cell_type": "markdown",
   "id": "555f91ec",
   "metadata": {
    "papermill": {
     "duration": 0.014498,
     "end_time": "2023-09-02T07:35:25.523292",
     "exception": false,
     "start_time": "2023-09-02T07:35:25.508794",
     "status": "completed"
    },
    "tags": []
   },
   "source": [
    "### When to use? <a id=3.3></a>\n",
    "\n",
    "##### Use cases:\n",
    "\n",
    "* ##### There are outliers, but not in extreme amount.\n",
    "\n",
    "* ##### Scaling features in similar shapes is necessary.\n",
    "\n",
    "* ##### Keeping the difference between inputs. Min-max normalization lacks this feature.\n",
    "\n",
    "##### Not suitable:\n",
    "\n",
    "* ##### Non-gaussian data and/or sparse data.\n",
    "\n",
    "* ##### High presence of outliers"
   ]
  },
  {
   "cell_type": "markdown",
   "id": "f51ace95",
   "metadata": {
    "papermill": {
     "duration": 0.01457,
     "end_time": "2023-09-02T07:35:25.552821",
     "exception": false,
     "start_time": "2023-09-02T07:35:25.538251",
     "status": "completed"
    },
    "tags": []
   },
   "source": [
    "### Deal with outliers: min-max vs. z-score <a id=3.4></a>"
   ]
  },
  {
   "cell_type": "code",
   "execution_count": 14,
   "id": "e94460de",
   "metadata": {
    "execution": {
     "iopub.execute_input": "2023-09-02T07:35:25.584602Z",
     "iopub.status.busy": "2023-09-02T07:35:25.584213Z",
     "iopub.status.idle": "2023-09-02T07:35:25.594136Z",
     "shell.execute_reply": "2023-09-02T07:35:25.592150Z"
    },
    "papermill": {
     "duration": 0.029221,
     "end_time": "2023-09-02T07:35:25.596869",
     "exception": false,
     "start_time": "2023-09-02T07:35:25.567648",
     "status": "completed"
    },
    "tags": []
   },
   "outputs": [
    {
     "data": {
      "text/plain": [
       "array([    0,     1,     2,     3,     4,     5,  1000, 10000])"
      ]
     },
     "execution_count": 14,
     "metadata": {},
     "output_type": "execute_result"
    }
   ],
   "source": [
    "X_outlier = np.array([0, 1, 2, 3, 4, 5, 1000, 10000])\n",
    "\n",
    "X_outlier"
   ]
  },
  {
   "cell_type": "code",
   "execution_count": 15,
   "id": "c6a843ad",
   "metadata": {
    "execution": {
     "iopub.execute_input": "2023-09-02T07:35:25.628990Z",
     "iopub.status.busy": "2023-09-02T07:35:25.628595Z",
     "iopub.status.idle": "2023-09-02T07:35:25.637764Z",
     "shell.execute_reply": "2023-09-02T07:35:25.636118Z"
    },
    "papermill": {
     "duration": 0.028871,
     "end_time": "2023-09-02T07:35:25.640619",
     "exception": false,
     "start_time": "2023-09-02T07:35:25.611748",
     "status": "completed"
    },
    "tags": []
   },
   "outputs": [
    {
     "data": {
      "text/plain": [
       "(array([0.e+00, 1.e-04, 2.e-04, 3.e-04, 4.e-04, 5.e-04, 1.e-01, 1.e+00]),\n",
       " array([-0.42034937, -0.42004407, -0.41973878, -0.41943349, -0.4191282 ,\n",
       "        -0.4188229 , -0.11505704,  2.63257385]))"
      ]
     },
     "execution_count": 15,
     "metadata": {},
     "output_type": "execute_result"
    }
   ],
   "source": [
    "X_min_max = min_max_norm(X_outlier)\n",
    "X_z_score = z_score(X_outlier)\n",
    "\n",
    "X_min_max, X_z_score"
   ]
  },
  {
   "cell_type": "markdown",
   "id": "a7e8a9bb",
   "metadata": {
    "papermill": {
     "duration": 0.014962,
     "end_time": "2023-09-02T07:35:25.670829",
     "exception": false,
     "start_time": "2023-09-02T07:35:25.655867",
     "status": "completed"
    },
    "tags": []
   },
   "source": [
    "##### As you can see, min-max normalization transformed the highest outlier value to 1 but others became extremely small values.\n",
    "\n",
    "##### On the other hand, Z-score performed smoother normalization for data with outliers."
   ]
  },
  {
   "cell_type": "markdown",
   "id": "14dd5eb1",
   "metadata": {
    "papermill": {
     "duration": 0.015779,
     "end_time": "2023-09-02T07:35:25.701811",
     "exception": false,
     "start_time": "2023-09-02T07:35:25.686032",
     "status": "completed"
    },
    "tags": []
   },
   "source": [
    "## Robust normalization <a id=4></a>\n",
    "\n",
    "### Definition <a id=4.1></a>\n",
    "\n",
    "##### Robust normalization (also known as robust scaling) is quite similar to z-score standardization. \n",
    "\n",
    "##### It is applied in data pre-processing. Formula:\n",
    "\n",
    "##### $ X_{robust} = \\frac{X - \\text{median}}{\\text{MAD}} $\n",
    "\n",
    "##### where $ \\text{median} $ is the median and $ \\text{MAD} $ is median absolute deviation."
   ]
  },
  {
   "cell_type": "markdown",
   "id": "bb1c7579",
   "metadata": {
    "papermill": {
     "duration": 0.015187,
     "end_time": "2023-09-02T07:35:25.732079",
     "exception": false,
     "start_time": "2023-09-02T07:35:25.716892",
     "status": "completed"
    },
    "tags": []
   },
   "source": [
    "### Implementation <a id=4.2></a>\n",
    "\n",
    "##### Lets implement it by ourselves first."
   ]
  },
  {
   "cell_type": "code",
   "execution_count": 16,
   "id": "b7abc47a",
   "metadata": {
    "execution": {
     "iopub.execute_input": "2023-09-02T07:35:25.764423Z",
     "iopub.status.busy": "2023-09-02T07:35:25.763906Z",
     "iopub.status.idle": "2023-09-02T07:35:25.770967Z",
     "shell.execute_reply": "2023-09-02T07:35:25.769630Z"
    },
    "papermill": {
     "duration": 0.026541,
     "end_time": "2023-09-02T07:35:25.773736",
     "exception": false,
     "start_time": "2023-09-02T07:35:25.747195",
     "status": "completed"
    },
    "tags": []
   },
   "outputs": [],
   "source": [
    "def robust_norm(inp):\n",
    "    med = np.median(inp)\n",
    "    mad = np.median(np.abs(inp - med))\n",
    "    return (inp - med) / mad"
   ]
  },
  {
   "cell_type": "code",
   "execution_count": 17,
   "id": "0864bc72",
   "metadata": {
    "execution": {
     "iopub.execute_input": "2023-09-02T07:35:25.806791Z",
     "iopub.status.busy": "2023-09-02T07:35:25.805720Z",
     "iopub.status.idle": "2023-09-02T07:35:25.818095Z",
     "shell.execute_reply": "2023-09-02T07:35:25.816535Z"
    },
    "papermill": {
     "duration": 0.032336,
     "end_time": "2023-09-02T07:35:25.821264",
     "exception": false,
     "start_time": "2023-09-02T07:35:25.788928",
     "status": "completed"
    },
    "tags": []
   },
   "outputs": [
    {
     "data": {
      "text/plain": [
       "array([ -2.,  -1.,   0.,   1., 997.])"
      ]
     },
     "execution_count": 17,
     "metadata": {},
     "output_type": "execute_result"
    }
   ],
   "source": [
    "X = np.array([1, 2, 3, 4, 1000]) \n",
    "\n",
    "X_robust = robust_norm(X)\n",
    "\n",
    "X_robust"
   ]
  },
  {
   "cell_type": "code",
   "execution_count": 18,
   "id": "8f4d85f0",
   "metadata": {
    "execution": {
     "iopub.execute_input": "2023-09-02T07:35:25.855883Z",
     "iopub.status.busy": "2023-09-02T07:35:25.855455Z",
     "iopub.status.idle": "2023-09-02T07:35:25.865636Z",
     "shell.execute_reply": "2023-09-02T07:35:25.864470Z"
    },
    "papermill": {
     "duration": 0.030908,
     "end_time": "2023-09-02T07:35:25.868308",
     "exception": false,
     "start_time": "2023-09-02T07:35:25.837400",
     "status": "completed"
    },
    "tags": []
   },
   "outputs": [
    {
     "data": {
      "text/plain": [
       "array([[ -2.],\n",
       "       [ -1.],\n",
       "       [  0.],\n",
       "       [  1.],\n",
       "       [997.]])"
      ]
     },
     "execution_count": 18,
     "metadata": {},
     "output_type": "execute_result"
    }
   ],
   "source": [
    "from sklearn.preprocessing import RobustScaler\n",
    "\n",
    "scaler = RobustScaler(with_scaling = False) \n",
    "X_scaled = scaler.fit_transform(X.reshape(-1,1))\n",
    "X_scaled"
   ]
  },
  {
   "cell_type": "markdown",
   "id": "fe83a27f",
   "metadata": {
    "papermill": {
     "duration": 0.015353,
     "end_time": "2023-09-02T07:35:25.899617",
     "exception": false,
     "start_time": "2023-09-02T07:35:25.884264",
     "status": "completed"
    },
    "tags": []
   },
   "source": [
    "### When to use? <a id=4.3></a>\n",
    "\n",
    "##### Use cases:\n",
    "\n",
    "* ##### For having robust feature set.\n",
    "\n",
    "* ##### Other benefits same with z-score normalization.\n",
    "\n",
    "#####  Not suitable:\n",
    "\n",
    "* ##### Non - or low amount of outliers.\n",
    "\n",
    "* ##### Other disadvantages same with z-score normalization."
   ]
  },
  {
   "cell_type": "markdown",
   "id": "53660423",
   "metadata": {
    "papermill": {
     "duration": 0.015832,
     "end_time": "2023-09-02T07:35:25.931624",
     "exception": false,
     "start_time": "2023-09-02T07:35:25.915792",
     "status": "completed"
    },
    "tags": []
   },
   "source": [
    "## Power normalization <a id=5></a>\n",
    "\n",
    "### Definition <a id=5.1></a>\n",
    "\n",
    "##### Used for data that do not follow normal distribution and/or issues with skewness.\n",
    "\n",
    "##### This technique is useful if normality of the data is wanted.\n",
    "\n",
    "##### There are two types of scaling:\n",
    "\n",
    "1. ##### Box-Cox transformation:\n",
    "    * ##### Requires input data to be positive.\n",
    "\n",
    "1. ##### Yeo-Johnson transformation:\n",
    "    * ##### Supports both positive and negative inputs.\n",
    "    \n",
    "##### Yeo-Johnson is more commonly used."
   ]
  },
  {
   "cell_type": "markdown",
   "id": "f1dff9ac",
   "metadata": {
    "papermill": {
     "duration": 0.015225,
     "end_time": "2023-09-02T07:35:25.962385",
     "exception": false,
     "start_time": "2023-09-02T07:35:25.947160",
     "status": "completed"
    },
    "tags": []
   },
   "source": [
    "### Implementation <a id=5.2></a>"
   ]
  },
  {
   "cell_type": "code",
   "execution_count": 19,
   "id": "556f30fe",
   "metadata": {
    "execution": {
     "iopub.execute_input": "2023-09-02T07:35:25.995381Z",
     "iopub.status.busy": "2023-09-02T07:35:25.994952Z",
     "iopub.status.idle": "2023-09-02T07:35:26.016603Z",
     "shell.execute_reply": "2023-09-02T07:35:26.015730Z"
    },
    "papermill": {
     "duration": 0.040912,
     "end_time": "2023-09-02T07:35:26.018717",
     "exception": false,
     "start_time": "2023-09-02T07:35:25.977805",
     "status": "completed"
    },
    "tags": []
   },
   "outputs": [
    {
     "data": {
      "text/plain": [
       "(array([[1],\n",
       "        [2],\n",
       "        [3],\n",
       "        [4],\n",
       "        [5],\n",
       "        [6],\n",
       "        [7],\n",
       "        [8],\n",
       "        [9]]),\n",
       " array([[-1.6530655 ],\n",
       "        [-1.17228888],\n",
       "        [-0.73398925],\n",
       "        [-0.32478919],\n",
       "        [ 0.06262238],\n",
       "        [ 0.43280569],\n",
       "        [ 0.78885272],\n",
       "        [ 1.13298478],\n",
       "        [ 1.46686724]]),\n",
       " array([[-1.69300618],\n",
       "        [-1.16788746],\n",
       "        [-0.71478085],\n",
       "        [-0.30290104],\n",
       "        [ 0.08080817],\n",
       "        [ 0.44346555],\n",
       "        [ 0.78950339],\n",
       "        [ 1.12192248],\n",
       "        [ 1.44287593]]))"
      ]
     },
     "execution_count": 19,
     "metadata": {},
     "output_type": "execute_result"
    }
   ],
   "source": [
    "from sklearn.preprocessing import PowerTransformer\n",
    "\n",
    "X = np.arange(1, 10).reshape(-1,1)\n",
    "\n",
    "scaler = PowerTransformer(method = \"yeo-johnson\") \n",
    "X_yeo = scaler.fit_transform(X)\n",
    "\n",
    "\n",
    "scaler = PowerTransformer(method = \"box-cox\") \n",
    "X_box = scaler.fit_transform(X)\n",
    "\n",
    "X, X_yeo, X_box"
   ]
  },
  {
   "cell_type": "markdown",
   "id": "c8b16240",
   "metadata": {
    "papermill": {
     "duration": 0.016271,
     "end_time": "2023-09-02T07:35:26.051139",
     "exception": false,
     "start_time": "2023-09-02T07:35:26.034868",
     "status": "completed"
    },
    "tags": []
   },
   "source": [
    "##### Even though I provide the implementation from stracth, sklearn or other similar frameworks are way more robust and powerful. Using this libraries will be better for your code.\n",
    "\n",
    "##### I appreciate any feedback. Please let me know if anything is missing or if you would like to add anything. I hope you enjoy this notebook.\n",
    "\n",
    "##### I will provide links when the other notebook is finished.\n",
    "\n",
    "##### Links: [GitHub](https://github.com/ahmetTuzen/Deep_Learning_Tutorials) and [LinkedIn](https://www.linkedin.com/in/ahmet-tuzen/)"
   ]
  }
 ],
 "kernelspec": {
  "display_name": "Python 3",
  "language": "python",
  "name": "python3"
 },
 "language_info": {
  "codemirror_mode": {
   "name": "ipython",
   "version": 3
  },
  "file_extension": ".py",
  "mimetype": "text/x-python",
  "name": "python",
  "nbconvert_exporter": "python",
  "pygments_lexer": "ipython3",
  "version": "3.6.4"
 },
 "metadata": {
  "kernelspec": {
   "display_name": "Python 3",
   "language": "python",
   "name": "python3"
  },
  "language_info": {
   "codemirror_mode": {
    "name": "ipython",
    "version": 3
   },
   "file_extension": ".py",
   "mimetype": "text/x-python",
   "name": "python",
   "nbconvert_exporter": "python",
   "pygments_lexer": "ipython3",
   "version": "3.10.12"
  },
  "papermill": {
   "default_parameters": {},
   "duration": 7.468543,
   "end_time": "2023-09-02T07:35:26.591394",
   "environment_variables": {},
   "exception": null,
   "input_path": "__notebook__.ipynb",
   "output_path": "__notebook__.ipynb",
   "parameters": {},
   "start_time": "2023-09-02T07:35:19.122851",
   "version": "2.4.0"
  }
 },
 "nbformat": 4,
 "nbformat_minor": 5
}
